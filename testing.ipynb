{
 "cells": [
  {
   "cell_type": "code",
   "execution_count": 2,
   "id": "a00d9b4d-7ab1-4028-84a9-50c0a65da506",
   "metadata": {},
   "outputs": [],
   "source": [
    "from langchain_community.embeddings.huggingface import HuggingFaceEmbeddings\n",
    "\n",
    "\n",
    "embeddings = HuggingFaceEmbeddings(\n",
    "    model_name=\"sentence-transformers/all-mpnet-base-v2\"\n",
    ")"
   ]
  },
  {
   "cell_type": "code",
   "execution_count": 3,
   "id": "1bb8c206-9690-4ac4-a0f7-7c43e794ab13",
   "metadata": {},
   "outputs": [],
   "source": [
    "import csv\n",
    "\n",
    "csv_file = 'data.csv'\n",
    "question = []   \n",
    "answer = []\n",
    "issue = []\n",
    "os = []\n",
    "with open(csv_file, mode='r', newline='', encoding='utf-8') as file:\n",
    "    reader = csv.reader(file)\n",
    "\n",
    "    # Iterate over each row in the CSV file\n",
    "    for row in reader:\n",
    "        question.append(row[0])\n",
    "        answer.append(row[1])\n",
    "        issue.append(row[2])\n",
    "        os.append(row[3])\n",
    "\n",
    "from langchain_core.documents import Document\n",
    "docs = []\n",
    "\n",
    "for i in range(0,len(question)):\n",
    "    docs.append(Document(\n",
    "        page_content=f\"question:{question[i]}, answer: {answer[i]}\",\n",
    "        metadata={\"issue\":issue[i], \"os\": os[i]}\n",
    "        )\n",
    "    )\n",
    "\n"
   ]
  },
  {
   "cell_type": "code",
   "execution_count": 4,
   "id": "0fb4357f-a660-444e-a69c-28b9214d5089",
   "metadata": {},
   "outputs": [],
   "source": [
    "from langchain_community.vectorstores import Qdrant\n",
    "\n",
    "\n",
    "vectorstore = Qdrant.from_documents(\n",
    "    docs,\n",
    "    embeddings,\n",
    "    location=\":memory:\",  # Local mode with in-memory storage only\n",
    "    collection_name=\"it_sol_chatbot\",\n",
    ")"
   ]
  },
  {
   "cell_type": "code",
   "execution_count": 5,
   "id": "40bb8027-a253-4089-9d7c-f5269e484eab",
   "metadata": {},
   "outputs": [],
   "source": [
    "from langchain_groq import ChatGroq\n",
    "\n",
    "llm = ChatGroq(temperature=0, model_name=\"mixtral-8x7b-32768\",groq_api_key=\"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\")"
   ]
  },
  {
   "cell_type": "code",
   "execution_count": 6,
   "id": "cfa747ff-282e-44e9-b828-f826afebafa0",
   "metadata": {},
   "outputs": [],
   "source": [
    "from langchain.chains.query_constructor.base import AttributeInfo\n",
    "from langchain.retrievers.self_query.base import SelfQueryRetriever\n",
    "\n",
    "metadata_field_info = [\n",
    "    AttributeInfo(\n",
    "        name=\"issue\",\n",
    "        description=\"The issue in the computer\",\n",
    "        type=\"string or list[string]\",\n",
    "    ),\n",
    "    AttributeInfo(\n",
    "        name=\"os\",\n",
    "        description=\"The operating system in the computer\",\n",
    "        type=\"string or list[string]\",\n",
    "    ),\n",
    "    AttributeInfo(\n",
    "        name=\"solution\",\n",
    "        description=\"the solution for the issue\",\n",
    "        type=\"string or list[string]\",\n",
    "    ),\n",
    "   \n",
    "]\n",
    "document_content_description = \"Brief description of the issue in computer\"\n",
    "\n",
    "\n",
    "retriever = SelfQueryRetriever.from_llm(\n",
    "    llm,\n",
    "    vectorstore,\n",
    "    document_content_description,\n",
    "    metadata_field_info,\n",
    "    enable_limit=True,\n",
    "    k=1\n",
    ")"
   ]
  },
  {
   "cell_type": "code",
   "execution_count": 13,
   "id": "753c6556-3e06-4660-85b7-8e9dc6270884",
   "metadata": {},
   "outputs": [],
   "source": [
    "from langchain.chains.query_constructor.base import (\n",
    "    StructuredQueryOutputParser,\n",
    "    get_query_constructor_prompt,\n",
    ")\n",
    "from langchain.retrievers.self_query.qdrant import QdrantTranslator\n",
    "prompt = get_query_constructor_prompt(\n",
    "    document_content_description,\n",
    "    metadata_field_info,\n",
    ")\n",
    "output_parser = StructuredQueryOutputParser.from_components()\n",
    "query_constructor = prompt | llm | output_parser\n",
    "\n",
    "\n",
    "from langchain.retrievers.self_query.chroma import ChromaTranslator\n",
    "from langchain.retrievers.self_query.qdrant import QdrantTranslator\n",
    "retriever = SelfQueryRetriever(\n",
    "    query_constructor=query_constructor,\n",
    "    vectorstore=vectorstore,\n",
    "    structured_query_translator=QdrantTranslator(metadata_key=\"metadata\"),\n",
    "    k=1\n",
    ")\n"
   ]
  },
  {
   "cell_type": "code",
   "execution_count": 17,
   "id": "25bfbbfe-f9f5-407b-b3e0-db2c8a8d674b",
   "metadata": {},
   "outputs": [
    {
     "name": "stdout",
     "output_type": "stream",
     "text": [
      "[Document(page_content='question:Computer overheating when turned on, answer: Clean the dust from vents and ensure proper airflow', metadata={'issue': 'computer overheating', 'os': 'windows', '_id': 'dc08cea380d542eda34ee160ca5ba5c4', '_collection_name': 'it_sol_chatbot'}), Document(page_content='question:Overheating during gaming, answer: Improve cooling system and reduce graphic settings', metadata={'issue': 'gaming overheating', 'os': 'windows', '_id': '2e70ab658f3e40759d0e3b261f71ab03', '_collection_name': 'it_sol_chatbot'}), Document(page_content=\"question:Error 'Device overheating', answer: Clean vents and improve ventilation around device\", metadata={'issue': 'device overheating', 'os': 'windows', '_id': '024e60623088486f99e7f0ff7edea9cb', '_collection_name': 'it_sol_chatbot'}), Document(page_content='question:Computer freezes randomly, answer: Check for overheating and update device drivers', metadata={'issue': 'freezing', 'os': 'windows', '_id': 'f2cac4c0b59843f8aada47a525f2b82d', '_collection_name': 'it_sol_chatbot'})]\n"
     ]
    }
   ],
   "source": [
    "data = retriever.invoke(\"My computer is overheating then usual\")\n",
    "\n",
    "print(data)"
   ]
  },
  {
   "cell_type": "code",
   "execution_count": 11,
   "id": "06896e91-c711-4f6e-9edb-072e08e79b41",
   "metadata": {},
   "outputs": [
    {
     "name": "stdout",
     "output_type": "stream",
     "text": [
      "Hi I am your IT bot just ask me any queries if you face any in your device\n"
     ]
    },
    {
     "name": "stdin",
     "output_type": "stream",
     "text": [
      "Enter your question:  My computer is overheating when i turn it on\n"
     ]
    },
    {
     "name": "stdout",
     "output_type": "stream",
     "text": [
      "Suggestion:  To resolve computer overheating, clean dust from vents and ensure proper airflow. This will help maintain an optimal temperature for your device.\n",
      "\n",
      "\n"
     ]
    },
    {
     "name": "stdin",
     "output_type": "stream",
     "text": [
      "Enter your question:  My computer is running slower then usual\n"
     ]
    },
    {
     "name": "stdout",
     "output_type": "stream",
     "text": [
      "Suggestion:  To improve slow performance after startup, try disabling unnecessary startup programs and running disk defragmentation. These steps can help optimize your system's speed and efficiency.\n",
      "\n",
      "\n"
     ]
    },
    {
     "name": "stdin",
     "output_type": "stream",
     "text": [
      "Enter your question:  There is some error in disk read and write\n"
     ]
    },
    {
     "name": "stdout",
     "output_type": "stream",
     "text": [
      "Suggestion:  To resolve a disk read/write error, check your disk's health using the CHKDSK tool and back up important data as a precaution. Act promptly to prevent data loss.\n",
      "\n",
      "\n"
     ]
    },
    {
     "name": "stdin",
     "output_type": "stream",
     "text": [
      "Enter your question:  I am getting a error 'High CPU usage'\n"
     ]
    },
    {
     "name": "stdout",
     "output_type": "stream",
     "text": [
      "Suggestion:  To resolve high CPU usage, identify and close unnecessary processes consuming high levels of CPU resources. Regularly monitor and optimize running processes to maintain optimal performance.\n",
      "\n",
      "\n"
     ]
    },
    {
     "name": "stdin",
     "output_type": "stream",
     "text": [
      "Enter your question:  \n"
     ]
    }
   ],
   "source": [
    "from langchain.prompts import ChatPromptTemplate\n",
    "import re\n",
    "print(\"Hi I am your IT bot just ask me any queries if you face any in your \")\n",
    "\n",
    "while True:\n",
    "    question = input(\"Enter your question: \")\n",
    "    if question == \"\":\n",
    "        break\n",
    "    data = retriever.invoke(question)\n",
    "\n",
    "    match = re.match(r'question:(.*?),\\s*answer:(.*)', data[0].page_content, re.IGNORECASE)\n",
    "    if match:\n",
    "      question = match.group(1).strip()\n",
    "      answer = match.group(2).strip()\n",
    "    \n",
    "\n",
    "    # Define the ChatPromptTemplate\n",
    "    system = \"You are a helpful IT support assistant.\"\n",
    "    human = \"{text}\"\n",
    "    prompt = ChatPromptTemplate.from_messages([(\"system\", system), (\"human\", human)])\n",
    "\n",
    "    chain = prompt | llm\n",
    "    ans = chain.invoke({\"text\": f\"\"\"This is the question asked {question} and this is the answer to it found in database {answer} Please show a formatted answer for this inabout 30 words\"\"\"}).content\n",
    "    print(\"Suggestion:  \"+ans+\"\\n\\n\")\n"
   ]
  },
  {
   "cell_type": "code",
   "execution_count": null,
   "id": "5ee51352-2aef-4a3e-92dc-694c628334fb",
   "metadata": {},
   "outputs": [],
   "source": []
  }
 ],
 "metadata": {
  "kernelspec": {
   "display_name": "Python 3 (ipykernel)",
   "language": "python",
   "name": "python3"
  },
  "language_info": {
   "codemirror_mode": {
    "name": "ipython",
    "version": 3
   },
   "file_extension": ".py",
   "mimetype": "text/x-python",
   "name": "python",
   "nbconvert_exporter": "python",
   "pygments_lexer": "ipython3",
   "version": "3.10.5"
  }
 },
 "nbformat": 4,
 "nbformat_minor": 5
}
